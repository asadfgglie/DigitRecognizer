{
 "cells": [
  {
   "cell_type": "markdown",
   "source": [
    "參考資料: https://mks.tw/2880/%E6%95%B8%E6%93%9A%E5%88%86%E6%9E%90-%E8%B8%8F%E4%B8%8A-kaggle-%E4%B9%8B%E8%B7%AF-%E4%BD%BF%E7%94%A8-knn-%E9%A0%90%E6%B8%AC-digit-recognizer"
   ],
   "metadata": {}
  },
  {
   "cell_type": "code",
   "execution_count": 1,
   "source": [
    "import numpy as np\n",
    "import matplotlib.pyplot as plt\n",
    "import pandas as pd"
   ],
   "outputs": [],
   "metadata": {}
  },
  {
   "cell_type": "code",
   "execution_count": 2,
   "source": [
    "PATH = \"/mnt/e/program/AI/Kaggle/DigitRecognizer\"\n",
    "train = pd.read_csv(PATH + \"/data/train.csv\")\n",
    "test = pd.read_csv(PATH + \"/data/test.csv\")"
   ],
   "outputs": [],
   "metadata": {}
  },
  {
   "cell_type": "code",
   "execution_count": 3,
   "source": [
    "from sklearn.model_selection import train_test_split\n",
    "from sklearn.neighbors import KNeighborsClassifier"
   ],
   "outputs": [],
   "metadata": {}
  },
  {
   "cell_type": "code",
   "execution_count": 4,
   "source": [
    "O_X_train = train.values[0:,1:]\n",
    "O_y_train = train.values[0:,0]\n",
    "test = test.values"
   ],
   "outputs": [],
   "metadata": {}
  },
  {
   "cell_type": "code",
   "execution_count": 5,
   "source": [
    "import copy\n",
    "nomalizing_X_train = copy.deepcopy(O_X_train)\n",
    "nomalizing_y_train = copy.deepcopy(O_y_train)\n",
    "nomalizing_X_train[nomalizing_X_train > 0] = 1\n",
    "nomalizing_y_train[nomalizing_y_train > 0] = 1"
   ],
   "outputs": [],
   "metadata": {}
  },
  {
   "cell_type": "code",
   "execution_count": null,
   "source": [
    "plt.imshow(nomalizing_X_train[3].reshape((28,28)),cmap=\"gray\")"
   ],
   "outputs": [
    {
     "output_type": "execute_result",
     "data": {
      "text/plain": [
       "<matplotlib.image.AxesImage at 0x7f808ad83c50>"
      ]
     },
     "metadata": {},
     "execution_count": 13
    },
    {
     "output_type": "display_data",
     "data": {
      "image/png": "[encoded data removed]",
      "text/plain": [
       "<Figure size 432x288 with 1 Axes>"
      ]
     },
     "metadata": {
      "needs_background": "light"
     }
    }
   ],
   "metadata": {}
  },
  {
   "cell_type": "code",
   "execution_count": 6,
   "source": [
    "O_X_train = np.concatenate((O_X_train,nomalizing_X_train))\n",
    "O_y_train = np.concatenate((O_y_train,nomalizing_y_train))"
   ],
   "outputs": [],
   "metadata": {}
  },
  {
   "cell_type": "code",
   "execution_count": 7,
   "source": [
    "x_train, x_test, y_train, y_test = train_test_split(O_X_train, O_y_train, test_size=0.2, random_state=666)"
   ],
   "outputs": [],
   "metadata": {}
  },
  {
   "cell_type": "code",
   "execution_count": 8,
   "source": [
    "from sklearn.metrics import accuracy_score\n",
    "import time"
   ],
   "outputs": [],
   "metadata": {}
  },
  {
   "cell_type": "code",
   "execution_count": 9,
   "source": [
    "k_score = []\n",
    "test_range = 10000\n",
    "for k in range(1, 6 + 1):\n",
    "    print(f\"k = {k} Training.\")\n",
    "    start = time.time()\n",
    "    knn = KNeighborsClassifier(n_neighbors = k)\n",
    "    knn.fit(x_train, y_train)\n",
    "    predict_result = knn.predict(x_test[:test_range])\n",
    "    predict_score = accuracy_score(y_test[:test_range], predict_result)\n",
    "    k_score.append(predict_score)\n",
    "    end = time.time()\n",
    "    print(f\"Score: {predict_score}.\")\n",
    "    print(f\"Complete time: {end - start} Secs.\")\n",
    "print(k_score)"
   ],
   "outputs": [
    {
     "output_type": "stream",
     "name": "stdout",
     "text": [
      "k = 1 Training.\n",
      "Score: 0.9817.\n",
      "Complete time: 75.55649638175964 Secs.\n",
      "k = 2 Training.\n",
      "Score: 0.9762.\n",
      "Complete time: 43.783968687057495 Secs.\n",
      "k = 3 Training.\n",
      "Score: 0.9809.\n",
      "Complete time: 41.70103979110718 Secs.\n",
      "k = 4 Training.\n",
      "Score: 0.9808.\n",
      "Complete time: 49.06849980354309 Secs.\n",
      "k = 5 Training.\n",
      "Score: 0.9808.\n",
      "Complete time: 46.222697257995605 Secs.\n",
      "k = 6 Training.\n",
      "Score: 0.9805.\n",
      "Complete time: 44.78239345550537 Secs.\n",
      "[0.9817, 0.9762, 0.9809, 0.9808, 0.9808, 0.9805]\n"
     ]
    }
   ],
   "metadata": {}
  },
  {
   "cell_type": "code",
   "execution_count": 10,
   "source": [
    "print(k_score.index(np.array(k_score).max()))\n",
    "k_score = k_score.index(np.array(k_score).max()) + 1"
   ],
   "outputs": [
    {
     "output_type": "stream",
     "name": "stdout",
     "text": [
      "0\n"
     ]
    }
   ],
   "metadata": {}
  },
  {
   "cell_type": "code",
   "execution_count": 11,
   "source": [
    "knn = KNeighborsClassifier(n_neighbors=k_score)\n",
    "knn.fit(O_X_train, O_y_train)\n",
    "predict_result = knn.predict(test)\n",
    "print(\"Train conplete.\")"
   ],
   "outputs": [
    {
     "output_type": "stream",
     "name": "stdout",
     "text": [
      "Train conplete.\n"
     ]
    }
   ],
   "metadata": {}
  },
  {
   "cell_type": "code",
   "execution_count": 12,
   "source": [
    "df_submission = {\n",
    "    \"ImageId\":list(range(1,28000+1)),\n",
    "    \"Label\":list(predict_result)\n",
    "}"
   ],
   "outputs": [],
   "metadata": {}
  },
  {
   "cell_type": "code",
   "execution_count": 13,
   "source": [
    "df_submission = pd.DataFrame(df_submission)\n",
    "with open(PATH + \"/submission.csv\",\"w\") as file:\n",
    "    file.write(df_submission.to_csv(index=False))"
   ],
   "outputs": [],
   "metadata": {}
  },
  {
   "cell_type": "code",
   "execution_count": 4,
   "source": [
    "plt.imshow(test[0].reshape((28,28)),cmap='gray')"
   ],
   "outputs": [
    {
     "output_type": "execute_result",
     "data": {
      "text/plain": [
       "<matplotlib.image.AxesImage at 0x7fb0922ed490>"
      ]
     },
     "metadata": {},
     "execution_count": 4
    },
    {
     "output_type": "display_data",
     "data": {
      "image/png": "[encoded data removed]",
      "text/plain": [
       "<Figure size 432x288 with 1 Axes>"
      ]
     },
     "metadata": {
      "needs_background": "light"
     }
    }
   ],
   "metadata": {}
  }
 ],
 "metadata": {
  "orig_nbformat": 4,
  "language_info": {
   "name": "python",
   "version": "3.7.11",
   "mimetype": "text/x-python",
   "codemirror_mode": {
    "name": "ipython",
    "version": 3
   },
   "pygments_lexer": "ipython3",
   "nbconvert_exporter": "python",
   "file_extension": ".py"
  },
  "kernelspec": {
   "name": "python3",
   "display_name": "Python 3.7.11 64-bit (conda)"
  },
  "interpreter": {
   "hash": "59a8963918c427dac74fe451254720006ff5631b1c8761b4385ec60e1653b8a3"
  }
 },
 "nbformat": 4,
 "nbformat_minor": 2
}